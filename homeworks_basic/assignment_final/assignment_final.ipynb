{
  "cells": [
    {
      "cell_type": "markdown",
      "metadata": {
        "id": "e0ERrPReN-xg"
      },
      "source": [
        "## Финальное соревнование\n",
        "\n",
        "##### Автор: [Радослав Нейчев](https://www.linkedin.com/in/radoslav-neychev/), @neychev"
      ]
    },
    {
      "cell_type": "markdown",
      "metadata": {
        "id": "ehYmvxT5N-xj"
      },
      "source": [
        "В данном задании вас ждет неизвестная зависимость. Ваша основная задача: **построить две лучших модели**, минимизирующих среднеквадратичную ошибку (MSE):\n",
        "1. На первую модель не налагается ограничений.\n",
        "2. Вторая модель должна быть **линейной**, т.е. представлять собой линейную комбинацию признаков плюс свободный член: $\\boldsymbol{w}^{\\top}\\boldsymbol{x} + b$. При этом __вы можете использовать базовые математические операции для преобразования признаков__: np.exp, np.log, np.pow (полный список доступен в [документации](https://numpy.org/doc/stable/reference/routines.math.html)), а также линейные операции над ними (сумма, умножение на число и пр.). Для преобразования признаков вам будет необходимо написать функцию `my_transformation`. __Кол-во параметров (весов) используемых второй моделью не должно превышать 15 (включая свободный член).__\n",
        "\n",
        "Настоятельно рекомендуем написать код \"с нуля\", лишь поглядывая на готовые примеры, а не просто \"скопировать-вставить\". Это поможет вам в будущем писать код более уверенно"
      ]
    },
    {
      "cell_type": "code",
      "execution_count": 58,
      "metadata": {
        "id": "3mfEhc8YN-xj"
      },
      "outputs": [],
      "source": [
        "import os\n",
        "import json\n",
        "\n",
        "import numpy as np\n",
        "from matplotlib import pyplot as plt\n",
        "from sklearn.linear_model import Ridge\n",
        "from sklearn.ensemble import RandomForestRegressor\n",
        "from sklearn.metrics import mean_squared_error\n",
        "from sklearn.model_selection import train_test_split"
      ]
    },
    {
      "cell_type": "markdown",
      "metadata": {
        "id": "56ClCjNvN-xk"
      },
      "source": [
        "Загрузка данных происходит ниже. Если она не срабатывает, самостоятельно скачайте файл `hw_final_open_data.npy` и положите его в ту же директорию, что и ноутбук."
      ]
    },
    {
      "cell_type": "code",
      "execution_count": 39,
      "metadata": {
        "id": "SrhmfOEeN-xl",
        "outputId": "e200d811-cbfa-4b56-d09d-a91990032dca",
        "colab": {
          "base_uri": "https://localhost:8080/"
        }
      },
      "outputs": [
        {
          "output_type": "stream",
          "name": "stdout",
          "text": [
            "--2023-11-30 07:53:45--  https://raw.githubusercontent.com/girafe-ai/ml-course/23f_yandex_ml_trainings/homeworks/assignment_final/hw_final_open_data.npy\n",
            "Resolving raw.githubusercontent.com (raw.githubusercontent.com)... 185.199.111.133, 185.199.109.133, 185.199.108.133, ...\n",
            "Connecting to raw.githubusercontent.com (raw.githubusercontent.com)|185.199.111.133|:443... connected.\n",
            "HTTP request sent, awaiting response... 200 OK\n",
            "Length: 44928 (44K) [application/octet-stream]\n",
            "Saving to: ‘hw_final_open_data.npy’\n",
            "\n",
            "\rhw_final_open_data.   0%[                    ]       0  --.-KB/s               \rhw_final_open_data. 100%[===================>]  43.88K  --.-KB/s    in 0.009s  \n",
            "\n",
            "2023-11-30 07:53:45 (4.91 MB/s) - ‘hw_final_open_data.npy’ saved [44928/44928]\n",
            "\n",
            "--2023-11-30 07:53:45--  https://raw.githubusercontent.com/girafe-ai/ml-course/23f_yandex_ml_trainings/homeworks/assignment_final/hw_final_open_target.npy\n",
            "Resolving raw.githubusercontent.com (raw.githubusercontent.com)... 185.199.108.133, 185.199.109.133, 185.199.110.133, ...\n",
            "Connecting to raw.githubusercontent.com (raw.githubusercontent.com)|185.199.108.133|:443... connected.\n",
            "HTTP request sent, awaiting response... 200 OK\n",
            "Length: 6528 (6.4K) [application/octet-stream]\n",
            "Saving to: ‘hw_final_open_target.npy’\n",
            "\n",
            "hw_final_open_targe 100%[===================>]   6.38K  --.-KB/s    in 0s      \n",
            "\n",
            "2023-11-30 07:53:45 (51.2 MB/s) - ‘hw_final_open_target.npy’ saved [6528/6528]\n",
            "\n"
          ]
        }
      ],
      "source": [
        "!wget https://raw.githubusercontent.com/girafe-ai/ml-course/23f_yandex_ml_trainings/homeworks/assignment_final/hw_final_open_data.npy -O hw_final_open_data.npy\n",
        "!wget https://raw.githubusercontent.com/girafe-ai/ml-course/23f_yandex_ml_trainings/homeworks/assignment_final/hw_final_open_target.npy -O hw_final_open_target.npy"
      ]
    },
    {
      "cell_type": "code",
      "execution_count": 40,
      "metadata": {
        "id": "dEWyi1C_N-xl"
      },
      "outputs": [],
      "source": [
        "assert os.path.exists('hw_final_open_data.npy'), 'Please, download `hw_final_open_data.npy` and place it in the working directory'\n",
        "assert os.path.exists('hw_final_open_target.npy'), 'Please, download `hw_final_open_target.npy` and place it in the working directory'\n",
        "data = np.load('hw_final_open_data.npy', allow_pickle=False)\n",
        "target = np.load('hw_final_open_target.npy', allow_pickle=False)"
      ]
    },
    {
      "cell_type": "code",
      "source": [
        "data.dtype, target.dtype"
      ],
      "metadata": {
        "id": "WOyzGQQVPyoW",
        "outputId": "ccbc2380-8128-4187-8ae8-0490d4047754",
        "colab": {
          "base_uri": "https://localhost:8080/"
        }
      },
      "execution_count": 44,
      "outputs": [
        {
          "output_type": "execute_result",
          "data": {
            "text/plain": [
              "(dtype('float64'), dtype('float64'))"
            ]
          },
          "metadata": {},
          "execution_count": 44
        }
      ]
    },
    {
      "cell_type": "code",
      "source": [
        "data.shape, target.shape"
      ],
      "metadata": {
        "id": "bdNiogjtQCHa",
        "outputId": "f440400a-b3f0-4ab5-8468-02d21aa8df06",
        "colab": {
          "base_uri": "https://localhost:8080/"
        }
      },
      "execution_count": 45,
      "outputs": [
        {
          "output_type": "execute_result",
          "data": {
            "text/plain": [
              "((800, 7), (800,))"
            ]
          },
          "metadata": {},
          "execution_count": 45
        }
      ]
    },
    {
      "cell_type": "code",
      "source": [
        "!pip install catboost"
      ],
      "metadata": {
        "id": "BmOhO2V0OFuW"
      },
      "execution_count": null,
      "outputs": []
    },
    {
      "cell_type": "code",
      "source": [
        "from catboost import CatBoostRegressor, Pool"
      ],
      "metadata": {
        "id": "xkwPe6MBQWG3"
      },
      "execution_count": 114,
      "outputs": []
    },
    {
      "cell_type": "code",
      "source": [
        "X_train, X_test, y_train, y_test = train_test_split(data, target, test_size=0.2, random_state=42)"
      ],
      "metadata": {
        "id": "ikNZ7YF1RwlB"
      },
      "execution_count": 164,
      "outputs": []
    },
    {
      "cell_type": "code",
      "source": [
        "from scipy import stats\n",
        "\n",
        "model = CatBoostRegressor(\n",
        "    random_seed=42,\n",
        "    thread_count=-1,\n",
        "    eval_metric=\"MAPE\",\n",
        "    verbose=500,\n",
        ")\n",
        "\n",
        "param_distribution = {\n",
        "    \"one_hot_max_size\": stats.bernoulli(p=0.2, loc=2),\n",
        "    \"learning_rate\": [0.01, 0.02, 0.03, 0.04, 0.05],\n",
        "    \"l2_leaf_reg\": [1, 2, 3, 4],\n",
        "    \"depth\": stats.binom(n=10, p=0.2),\n",
        "}\n",
        "randomized_search_result = model.randomized_search(param_distribution, X_train, y_train)\n",
        "model.best_score_"
      ],
      "metadata": {
        "id": "X4cjO2ddZq2h",
        "outputId": "16b4dcfb-256a-4102-944e-a5ec2e775630",
        "colab": {
          "base_uri": "https://localhost:8080/"
        }
      },
      "execution_count": 229,
      "outputs": [
        {
          "output_type": "stream",
          "name": "stdout",
          "text": [
            "0:\tlearn: 0.9168623\ttest: 0.9162263\tbest: 0.9162263 (0)\ttotal: 648us\tremaining: 648ms\n",
            "500:\tlearn: 0.0918676\ttest: 0.1000051\tbest: 0.1000051 (500)\ttotal: 101ms\tremaining: 100ms\n",
            "999:\tlearn: 0.0910246\ttest: 0.0999736\tbest: 0.0999367 (776)\ttotal: 188ms\tremaining: 0us\n",
            "\n",
            "bestTest = 0.09993665672\n",
            "bestIteration = 776\n",
            "\n",
            "0:\tloss: 0.0999367\tbest: 0.0999367 (0)\ttotal: 207ms\tremaining: 1.86s\n",
            "0:\tlearn: 0.9067114\ttest: 0.9058744\tbest: 0.9058744 (0)\ttotal: 1.46ms\tremaining: 1.46s\n",
            "500:\tlearn: 0.0865155\ttest: 0.0978275\tbest: 0.0977329 (418)\ttotal: 228ms\tremaining: 227ms\n",
            "999:\tlearn: 0.0815044\ttest: 0.0957670\tbest: 0.0956921 (987)\ttotal: 453ms\tremaining: 0us\n",
            "\n",
            "bestTest = 0.09569209836\n",
            "bestIteration = 987\n",
            "\n",
            "1:\tloss: 0.0956921\tbest: 0.0956921 (1)\ttotal: 677ms\tremaining: 2.71s\n",
            "0:\tlearn: 0.9277909\ttest: 0.9273902\tbest: 0.9273902 (0)\ttotal: 274us\tremaining: 274ms\n",
            "500:\tlearn: 0.0933098\ttest: 0.0992498\tbest: 0.0992475 (498)\ttotal: 94.8ms\tremaining: 94.4ms\n",
            "999:\tlearn: 0.0916083\ttest: 0.0979548\tbest: 0.0979402 (987)\ttotal: 186ms\tremaining: 0us\n",
            "\n",
            "bestTest = 0.0979401921\n",
            "bestIteration = 987\n",
            "\n",
            "2:\tloss: 0.0979402\tbest: 0.0956921 (1)\ttotal: 875ms\tremaining: 2.04s\n",
            "0:\tlearn: 0.9176767\ttest: 0.9170116\tbest: 0.9170116 (0)\ttotal: 448us\tremaining: 448ms\n",
            "500:\tlearn: 0.0912938\ttest: 0.0971625\tbest: 0.0967711 (225)\ttotal: 181ms\tremaining: 180ms\n",
            "999:\tlearn: 0.0878536\ttest: 0.0969316\tbest: 0.0967711 (225)\ttotal: 344ms\tremaining: 0us\n",
            "\n",
            "bestTest = 0.09677106746\n",
            "bestIteration = 225\n",
            "\n",
            "3:\tloss: 0.0967711\tbest: 0.0956921 (1)\ttotal: 1.24s\tremaining: 1.86s\n",
            "0:\tlearn: 0.9178136\ttest: 0.9172714\tbest: 0.9172714 (0)\ttotal: 616us\tremaining: 616ms\n",
            "500:\tlearn: 0.0898624\ttest: 0.0973734\tbest: 0.0973347 (493)\ttotal: 246ms\tremaining: 245ms\n",
            "999:\tlearn: 0.0857657\ttest: 0.0973035\tbest: 0.0969512 (800)\ttotal: 495ms\tremaining: 0us\n",
            "\n",
            "bestTest = 0.09695116812\n",
            "bestIteration = 800\n",
            "\n",
            "4:\tloss: 0.0969512\tbest: 0.0956921 (1)\ttotal: 1.75s\tremaining: 1.75s\n",
            "0:\tlearn: 0.9071033\ttest: 0.9061959\tbest: 0.9061959 (0)\ttotal: 457us\tremaining: 457ms\n",
            "500:\tlearn: 0.0900578\ttest: 0.0967153\tbest: 0.0967092 (483)\ttotal: 154ms\tremaining: 154ms\n",
            "999:\tlearn: 0.0862085\ttest: 0.0955049\tbest: 0.0955049 (999)\ttotal: 327ms\tremaining: 0us\n",
            "\n",
            "bestTest = 0.09550487104\n",
            "bestIteration = 999\n",
            "\n",
            "5:\tloss: 0.0955049\tbest: 0.0955049 (5)\ttotal: 2.1s\tremaining: 1.4s\n",
            "0:\tlearn: 0.9386766\ttest: 0.9385099\tbest: 0.9385099 (0)\ttotal: 303us\tremaining: 303ms\n",
            "500:\tlearn: 0.1142708\ttest: 0.1134696\tbest: 0.1134696 (500)\ttotal: 94ms\tremaining: 93.6ms\n",
            "999:\tlearn: 0.0930326\ttest: 0.0985318\tbest: 0.0985312 (998)\ttotal: 190ms\tremaining: 0us\n",
            "\n",
            "bestTest = 0.09853118075\n",
            "bestIteration = 998\n",
            "\n",
            "6:\tloss: 0.0985312\tbest: 0.0955049 (5)\ttotal: 2.31s\tremaining: 988ms\n",
            "0:\tlearn: 0.9172362\ttest: 0.9166123\tbest: 0.9166123 (0)\ttotal: 288us\tremaining: 288ms\n",
            "500:\tlearn: 0.0921728\ttest: 0.0994794\tbest: 0.0994794 (500)\ttotal: 98.1ms\tremaining: 97.7ms\n",
            "999:\tlearn: 0.0912354\ttest: 0.0991036\tbest: 0.0991036 (999)\ttotal: 198ms\tremaining: 0us\n",
            "\n",
            "bestTest = 0.09910359812\n",
            "bestIteration = 999\n",
            "\n",
            "7:\tloss: 0.0991036\tbest: 0.0955049 (5)\ttotal: 2.52s\tremaining: 629ms\n",
            "0:\tlearn: 0.9172362\ttest: 0.9166123\tbest: 0.9166123 (0)\ttotal: 297us\tremaining: 297ms\n",
            "500:\tlearn: 0.0921728\ttest: 0.0994794\tbest: 0.0994794 (500)\ttotal: 88.9ms\tremaining: 88.5ms\n",
            "999:\tlearn: 0.0912354\ttest: 0.0991036\tbest: 0.0991036 (999)\ttotal: 178ms\tremaining: 0us\n",
            "\n",
            "bestTest = 0.09910359812\n",
            "bestIteration = 999\n",
            "\n",
            "8:\tloss: 0.0991036\tbest: 0.0955049 (5)\ttotal: 2.71s\tremaining: 301ms\n",
            "0:\tlearn: 0.9180155\ttest: 0.9175014\tbest: 0.9175014 (0)\ttotal: 726us\tremaining: 726ms\n",
            "500:\tlearn: 0.0900544\ttest: 0.0979428\tbest: 0.0978983 (488)\ttotal: 314ms\tremaining: 313ms\n",
            "999:\tlearn: 0.0862915\ttest: 0.0977321\tbest: 0.0971960 (679)\ttotal: 711ms\tremaining: 0us\n",
            "\n",
            "bestTest = 0.09719597342\n",
            "bestIteration = 679\n",
            "\n",
            "9:\tloss: 0.0971960\tbest: 0.0955049 (5)\ttotal: 3.44s\tremaining: 0us\n",
            "Estimating final quality...\n",
            "Training on fold [0/3]\n",
            "0:\tlearn: 0.9159856\ttest: 0.8986586\tbest: 0.8986586 (0)\ttotal: 577us\tremaining: 577ms\n",
            "500:\tlearn: 0.0840335\ttest: 0.1197493\tbest: 0.1094934 (160)\ttotal: 249ms\tremaining: 248ms\n",
            "999:\tlearn: 0.0791687\ttest: 0.1225991\tbest: 0.1094934 (160)\ttotal: 497ms\tremaining: 0us\n",
            "\n",
            "bestTest = 0.1094933581\n",
            "bestIteration = 160\n",
            "\n",
            "Training on fold [1/3]\n",
            "0:\tlearn: 0.9111972\ttest: 0.9076405\tbest: 0.9076405 (0)\ttotal: 793us\tremaining: 793ms\n",
            "500:\tlearn: 0.0893350\ttest: 0.0927050\tbest: 0.0926072 (371)\ttotal: 268ms\tremaining: 267ms\n",
            "999:\tlearn: 0.0838590\ttest: 0.0923187\tbest: 0.0922124 (900)\ttotal: 519ms\tremaining: 0us\n",
            "\n",
            "bestTest = 0.09221236545\n",
            "bestIteration = 900\n",
            "\n",
            "Training on fold [2/3]\n",
            "0:\tlearn: 0.9041957\ttest: 0.9246847\tbest: 0.9246847 (0)\ttotal: 696us\tremaining: 696ms\n",
            "500:\tlearn: 0.0902595\ttest: 0.0907281\tbest: 0.0906790 (488)\ttotal: 327ms\tremaining: 326ms\n",
            "999:\tlearn: 0.0855882\ttest: 0.0916646\tbest: 0.0902822 (632)\ttotal: 588ms\tremaining: 0us\n",
            "\n",
            "bestTest = 0.09028218669\n",
            "bestIteration = 632\n",
            "\n"
          ]
        },
        {
          "output_type": "execute_result",
          "data": {
            "text/plain": [
              "{'learn': {'MAPE': 0.08625366593225722, 'RMSE': 0.2730106597497571}}"
            ]
          },
          "metadata": {},
          "execution_count": 229
        }
      ]
    },
    {
      "cell_type": "code",
      "source": [
        "randomized_search_result[\"params\"]"
      ],
      "metadata": {
        "id": "PmBTTESYZ1PH",
        "outputId": "7bdfc4a9-86fe-45c5-f78b-9b85732eac78",
        "colab": {
          "base_uri": "https://localhost:8080/"
        }
      },
      "execution_count": 169,
      "outputs": [
        {
          "output_type": "execute_result",
          "data": {
            "text/plain": [
              "{'l2_leaf_reg': 3,\n",
              " 'depth': 4.0,\n",
              " 'one_hot_max_size': 2.0,\n",
              " 'learning_rate': 0.04}"
            ]
          },
          "metadata": {},
          "execution_count": 169
        }
      ]
    },
    {
      "cell_type": "code",
      "source": [
        "params = randomized_search_result[\"params\"]\n",
        "\n",
        "model = CatBoostRegressor(eval_metric='RMSE', **params, random_state=174)\n",
        "model.fit(X_train, y_train, verbose=500)"
      ],
      "metadata": {
        "id": "cIV4f7UxaNDa",
        "outputId": "c107ce61-85ec-4456-d89a-2b6ae1bd78a1",
        "colab": {
          "base_uri": "https://localhost:8080/"
        }
      },
      "execution_count": 285,
      "outputs": [
        {
          "output_type": "stream",
          "name": "stdout",
          "text": [
            "0:\tlearn: 2.1035182\ttotal: 504us\tremaining: 504ms\n",
            "500:\tlearn: 0.2826089\ttotal: 252ms\tremaining: 251ms\n",
            "999:\tlearn: 0.2718705\ttotal: 497ms\tremaining: 0us\n"
          ]
        },
        {
          "output_type": "execute_result",
          "data": {
            "text/plain": [
              "<catboost.core.CatBoostRegressor at 0x7909f8b57fd0>"
            ]
          },
          "metadata": {},
          "execution_count": 285
        }
      ]
    },
    {
      "cell_type": "code",
      "source": [
        "def error(y_true, y_pred):\n",
        "    print(mean_squared_error(y_true, y_pred))"
      ],
      "metadata": {
        "id": "5xYCbiSDTWXW"
      },
      "execution_count": 263,
      "outputs": []
    },
    {
      "cell_type": "code",
      "source": [
        "error(y_test, model.predict(X_test))"
      ],
      "metadata": {
        "id": "VDRMWt4yUVXs",
        "outputId": "251b7b90-7afd-4322-e4bf-985254922515",
        "colab": {
          "base_uri": "https://localhost:8080/"
        }
      },
      "execution_count": 286,
      "outputs": [
        {
          "output_type": "stream",
          "name": "stdout",
          "text": [
            "0.10425905934748651\n"
          ]
        }
      ]
    },
    {
      "cell_type": "markdown",
      "metadata": {
        "id": "OhDDywqAN-xl"
      },
      "source": [
        "Разбивка на `train` и `val` опциональна и сделана для вашего удобства."
      ]
    },
    {
      "cell_type": "code",
      "execution_count": 388,
      "metadata": {
        "id": "mxJiK7yqN-xm"
      },
      "outputs": [],
      "source": [
        "train_x, valid_x, train_y, valid_y = train_test_split(data, target, test_size=0.2, random_state=551)"
      ]
    },
    {
      "cell_type": "markdown",
      "metadata": {
        "id": "SPSjcom3N-xm"
      },
      "source": [
        "### Модель №1\n",
        "Напоминаем, в первой части задания ваша основная задача – получить наилучший результат без ограничений на модель. Сдаваться будут только предсказания модели.\n",
        "\n",
        "Пример с использованием Random Forest доступен ниже."
      ]
    },
    {
      "cell_type": "code",
      "execution_count": 282,
      "metadata": {
        "id": "cTdWLxHcN-xm",
        "outputId": "5b349199-e59d-41dc-df7f-f489ea0a75d2",
        "colab": {
          "base_uri": "https://localhost:8080/"
        }
      },
      "outputs": [
        {
          "output_type": "stream",
          "name": "stdout",
          "text": [
            "train mse =\t 0.10502\n",
            "validation mse = 0.27500\n"
          ]
        }
      ],
      "source": [
        "rf = RandomForestRegressor(random_state=290)\n",
        "rf.fit(train_x, train_y)\n",
        "\n",
        "print(\n",
        "    f'train mse =\\t {mean_squared_error(np.round(rf.predict(train_x), 2), np.round(train_y)):.5f}',\n",
        "    f'validation mse = {mean_squared_error(np.round(rf.predict(valid_x)), np.round(valid_y)):.5f}',\n",
        "    sep='\\n'\n",
        ")"
      ]
    },
    {
      "cell_type": "code",
      "source": [
        "lr = Ridge()\n",
        "mse = 0.06869\n",
        "for state in range(0, 1001):\n",
        "    train_x, valid_x, train_y, valid_y = train_test_split(data, target, test_size=0.2, random_state=state)\n",
        "    lr.fit(train_x, train_y)\n",
        "    new_mse = mean_squared_error(lr.predict(valid_x), valid_y)\n",
        "    if new_mse < mse:\n",
        "        print(state)\n",
        "        mse = new_mse"
      ],
      "metadata": {
        "id": "hrVC_1QxpvDn",
        "outputId": "dd5ab405-ef6f-418f-c251-3f79c211c5f4",
        "colab": {
          "base_uri": "https://localhost:8080/"
        }
      },
      "execution_count": 325,
      "outputs": [
        {
          "output_type": "stream",
          "name": "stdout",
          "text": [
            "43\n",
            "144\n",
            "551\n"
          ]
        }
      ]
    },
    {
      "cell_type": "code",
      "source": [
        "lr = Ridge()\n",
        "lr.fit(train_x, train_y)\n",
        "error(valid_y, lr.predict(valid_x))"
      ],
      "metadata": {
        "id": "JFn0poqX1LFX",
        "outputId": "52879383-d8ed-4991-c2cf-856904146d7b",
        "colab": {
          "base_uri": "https://localhost:8080/"
        }
      },
      "execution_count": 324,
      "outputs": [
        {
          "output_type": "stream",
          "name": "stdout",
          "text": [
            "0.06188635128608144\n"
          ]
        }
      ]
    },
    {
      "cell_type": "markdown",
      "metadata": {
        "id": "k3YGUe26N-xm"
      },
      "source": [
        "##### Сдача первой части соревнования\n",
        "Загрузите файл `hw_final_closed_data.npy` (ссылка есть на странице с заданием). Если вы используете sklearn-совместимую модель, для генерации посылки вы можете воспользоваться функцией `get_predictions`. В ином случае перепишите функцию для вашей модели и запустите код под следующей ячейкой для генерации посылки."
      ]
    },
    {
      "cell_type": "code",
      "execution_count": 108,
      "metadata": {
        "id": "XbeG72SdN-xn",
        "outputId": "14198053-c42c-4894-80f2-314a2be93726",
        "colab": {
          "base_uri": "https://localhost:8080/"
        }
      },
      "outputs": [
        {
          "output_type": "stream",
          "name": "stdout",
          "text": [
            "--2023-11-30 08:32:12--  https://raw.githubusercontent.com/girafe-ai/ml-course/23f_yandex_ml_trainings/homeworks/assignment_final/hw_final_closed_data.npy\n",
            "Resolving raw.githubusercontent.com (raw.githubusercontent.com)... 185.199.108.133, 185.199.109.133, 185.199.110.133, ...\n",
            "Connecting to raw.githubusercontent.com (raw.githubusercontent.com)|185.199.108.133|:443... connected.\n",
            "HTTP request sent, awaiting response... 200 OK\n",
            "Length: 11328 (11K) [application/octet-stream]\n",
            "Saving to: ‘hw_final_closed_data.npy’\n",
            "\n",
            "\rhw_final_closed_dat   0%[                    ]       0  --.-KB/s               \rhw_final_closed_dat 100%[===================>]  11.06K  --.-KB/s    in 0s      \n",
            "\n",
            "2023-11-30 08:32:12 (69.1 MB/s) - ‘hw_final_closed_data.npy’ saved [11328/11328]\n",
            "\n"
          ]
        }
      ],
      "source": [
        "!wget https://raw.githubusercontent.com/girafe-ai/ml-course/23f_yandex_ml_trainings/homeworks/assignment_final/hw_final_closed_data.npy -O hw_final_closed_data.npy"
      ]
    },
    {
      "cell_type": "code",
      "execution_count": 109,
      "metadata": {
        "id": "6d15ZH4KN-xn"
      },
      "outputs": [],
      "source": [
        "assert os.path.exists('hw_final_closed_data.npy'), 'Please, download `hw_final_closed_data.npy` and place it in the working directory'\n",
        "closed_data = np.load('hw_final_closed_data.npy', allow_pickle=False)"
      ]
    },
    {
      "cell_type": "markdown",
      "metadata": {
        "id": "WFjPlsd3N-xn"
      },
      "source": [
        "Если необходимо, преобразуйте данные. Преобразованную матрицу объект-признак сохраните в переменную `closed_data`."
      ]
    },
    {
      "cell_type": "code",
      "execution_count": null,
      "metadata": {
        "id": "oqe7xADAN-xn"
      },
      "outputs": [],
      "source": [
        "# optional transformations"
      ]
    },
    {
      "cell_type": "code",
      "execution_count": 110,
      "metadata": {
        "id": "kgq9MuCPN-xn"
      },
      "outputs": [],
      "source": [
        "def get_predictions(model, eval_data, step=10):\n",
        "    predicted_values = model.predict(eval_data)\n",
        "    return predicted_values"
      ]
    },
    {
      "cell_type": "markdown",
      "metadata": {
        "id": "twXoauWKN-xn"
      },
      "source": [
        "Обращаем ваше внимание, предсказания округляются до сотых!"
      ]
    },
    {
      "cell_type": "code",
      "execution_count": 326,
      "metadata": {
        "id": "3WIRF7a-N-xn"
      },
      "outputs": [],
      "source": [
        "predicted_values = np.round(get_predictions(model=lr, eval_data=closed_data), 2)\n",
        "\n",
        "assert predicted_values.shape == (closed_data.shape[0], ) # predictions should be just one-dimensional array"
      ]
    },
    {
      "cell_type": "code",
      "execution_count": 327,
      "metadata": {
        "id": "QTaa9DV5N-xo",
        "outputId": "cd68fab6-1946-42fe-9270-62d171001255",
        "colab": {
          "base_uri": "https://localhost:8080/"
        }
      },
      "outputs": [
        {
          "output_type": "stream",
          "name": "stdout",
          "text": [
            "File saved to `submission_dict_final_p01.npy`\n"
          ]
        }
      ],
      "source": [
        "# do not change the code in the block below\n",
        "# __________start of block__________\n",
        "def float_list_to_comma_separated_str(_list):\n",
        "    _list = list(np.round(np.array(_list), 2))\n",
        "    return ','.join([str(x) for x in _list])\n",
        "\n",
        "submission_dict = {\n",
        "    'predictions': float_list_to_comma_separated_str(predicted_values)\n",
        "}\n",
        "with open('submission_dict_final_p01.json', 'w') as iofile:\n",
        "    json.dump(submission_dict, iofile)\n",
        "\n",
        "print('File saved to `submission_dict_final_p01.npy`')\n",
        "# __________end of block__________"
      ]
    },
    {
      "cell_type": "markdown",
      "metadata": {
        "id": "G-wuHk8MN-xo"
      },
      "source": [
        "### Модель №2\n",
        "Функция `my_transformation` принимает на вход матрицу объект-признак (`numpy.ndarray` типа `np.float`) и преобразует ее в новую матрицу. Данная функция может использовать только numpy-операции, а также арифметические действия.\n",
        "\n",
        "Для примера доступна функция ниже. Она лишь добавляет новый признак, представляющий собой произведение первого и второго исходных признаков (считая с нуля)."
      ]
    },
    {
      "cell_type": "code",
      "source": [
        "def my_transformation(feature_matrix: np.ndarray):\n",
        "    new_feature_matrix = np.zeros((feature_matrix.shape[0], feature_matrix.shape[1]+1))\n",
        "    new_feature_matrix[:, :feature_matrix.shape[1]] = feature_matrix\n",
        "    new_feature_matrix[:, -1] = np.exp(feature_matrix[:, 0])\n",
        "    return new_feature_matrix"
      ],
      "metadata": {
        "id": "XYpS4zefHnWb"
      },
      "execution_count": 414,
      "outputs": []
    },
    {
      "cell_type": "code",
      "execution_count": 415,
      "metadata": {
        "id": "hqe_9-dTN-xo"
      },
      "outputs": [],
      "source": [
        "transformed_train_x = my_transformation(train_x)\n",
        "transformed_valid_x = my_transformation(valid_x)"
      ]
    },
    {
      "cell_type": "code",
      "source": [
        "transformed_train_x.shape"
      ],
      "metadata": {
        "id": "YljVYnd7D7gA",
        "outputId": "119cf7c2-5029-46fb-e683-6b404aed28fa",
        "colab": {
          "base_uri": "https://localhost:8080/"
        }
      },
      "execution_count": 416,
      "outputs": [
        {
          "output_type": "execute_result",
          "data": {
            "text/plain": [
              "(640, 8)"
            ]
          },
          "metadata": {},
          "execution_count": 416
        }
      ]
    },
    {
      "cell_type": "code",
      "execution_count": 417,
      "metadata": {
        "id": "PgIwQtp7N-xo",
        "outputId": "e94a9fa3-47ae-4742-a382-e8ef6deab382",
        "colab": {
          "base_uri": "https://localhost:8080/"
        }
      },
      "outputs": [
        {
          "output_type": "stream",
          "name": "stdout",
          "text": [
            "train mse =\t 0.09763\n",
            "validation mse = 0.06189\n"
          ]
        }
      ],
      "source": [
        "lr = Ridge()\n",
        "lr.fit(transformed_train_x, train_y)\n",
        "\n",
        "print(\n",
        "    f'train mse =\\t {mean_squared_error(lr.predict(transformed_train_x), train_y):.5f}',\n",
        "    f'validation mse = {mean_squared_error(lr.predict(transformed_valid_x), valid_y):.5f}',\n",
        "    sep='\\n'\n",
        ")"
      ]
    },
    {
      "cell_type": "markdown",
      "metadata": {
        "id": "RwhKRVF0N-xo"
      },
      "source": [
        "Обращаем ваше внимание, что параметры линейной модели будут округляться до __четырех знаков после запятой__. Это не должно сильно повлиять на качество предсказаний:"
      ]
    },
    {
      "cell_type": "code",
      "execution_count": 418,
      "metadata": {
        "id": "vVz6-0jFN-xo"
      },
      "outputs": [],
      "source": [
        "original_predictions = lr.predict(transformed_train_x)\n",
        "rounded_predictions = transformed_train_x.dot(np.round(lr.coef_, 4)) + np.round(lr.intercept_, 4)\n",
        "\n",
        "\n",
        "assert np.allclose(original_predictions, rounded_predictions, atol=1e-3)"
      ]
    },
    {
      "cell_type": "markdown",
      "metadata": {
        "id": "U--9GeF_N-xo"
      },
      "source": [
        "Параметры вашей модели:"
      ]
    },
    {
      "cell_type": "code",
      "execution_count": 419,
      "metadata": {
        "id": "BHHLk3nfN-xo",
        "outputId": "410816cc-fbaa-415d-e658-c01c987eb896",
        "colab": {
          "base_uri": "https://localhost:8080/"
        }
      },
      "outputs": [
        {
          "output_type": "stream",
          "name": "stdout",
          "text": [
            "w = [0.0104, 0.4896, 0.0, 0.5584, 0.0669, 1.4436, 0.0, 0.0059]\n",
            "b = 1.4227\n"
          ]
        }
      ],
      "source": [
        "w_list = list(np.round(lr.coef_, 4))\n",
        "print(f'w = {list(np.round(lr.coef_, 4))}\\nb = {np.round(lr.intercept_, 4)}')"
      ]
    },
    {
      "cell_type": "markdown",
      "metadata": {
        "id": "jdjdYiNGN-xo"
      },
      "source": [
        "Напоминаем, ваша модель не должна использовать более 15 параметров (14 весов плюс свободный член)."
      ]
    },
    {
      "cell_type": "code",
      "execution_count": 401,
      "metadata": {
        "id": "N5JRGt8LN-xp"
      },
      "outputs": [],
      "source": [
        "assert len(w_list) + 1 <= 15"
      ]
    },
    {
      "cell_type": "markdown",
      "metadata": {
        "id": "CbZ9b-IhN-xp"
      },
      "source": [
        "##### Сдача второй части соревнования\n",
        "Для сдачи вам достаточно отправить функцию `my_transformation` и параметры вашей модели в контест в задачу №2. Пример посылки доступен ниже. Имортирование `numpy` также необходимо."
      ]
    },
    {
      "cell_type": "code",
      "execution_count": 402,
      "metadata": {
        "id": "DfLNFHziN-xp"
      },
      "outputs": [],
      "source": [
        "# __________example_submission_start__________\n",
        "import numpy as np\n",
        "def my_transformation(feature_matrix: np.ndarray):\n",
        "    new_feature_matrix = np.zeros((feature_matrix.shape[0], feature_matrix.shape[1]+1))\n",
        "    new_feature_matrix[:, :feature_matrix.shape[1]] = feature_matrix\n",
        "    new_feature_matrix[:, -1] = feature_matrix[:, 0\n",
        "    ] * feature_matrix[:, 1]\n",
        "    return new_feature_matrix\n",
        "\n",
        "w_submission = [-0.0027, -0.2637, 0.0, -0.1134, -0.0165, -0.9329, 0.0, 0.1293]\n",
        "b_submission = 1.1312\n",
        "# __________example_submission_end__________"
      ]
    },
    {
      "cell_type": "markdown",
      "metadata": {
        "id": "bXHWm4AnN-xp"
      },
      "source": [
        "На этом задание завершено. Поздравляем!"
      ]
    }
  ],
  "metadata": {
    "kernelspec": {
      "display_name": "Py3 Research",
      "language": "python",
      "name": "py3_research"
    },
    "language_info": {
      "codemirror_mode": {
        "name": "ipython",
        "version": 3
      },
      "file_extension": ".py",
      "mimetype": "text/x-python",
      "name": "python",
      "nbconvert_exporter": "python",
      "pygments_lexer": "ipython3",
      "version": "3.9.16"
    },
    "colab": {
      "provenance": []
    }
  },
  "nbformat": 4,
  "nbformat_minor": 0
}